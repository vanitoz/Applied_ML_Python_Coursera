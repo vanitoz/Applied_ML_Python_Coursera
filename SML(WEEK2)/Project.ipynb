{
 "cells": [
  {
   "cell_type": "code",
   "execution_count": 1,
   "metadata": {},
   "outputs": [],
   "source": [
    "import pandas as pd\n",
    "from sklearn.svm import SVC\n",
    "from sklearn.ensemble import GradientBoostingClassifier"
   ]
  },
  {
   "cell_type": "code",
   "execution_count": 2,
   "metadata": {},
   "outputs": [],
   "source": [
    "test=pd.read_csv('test.csv')\n",
    "train=pd.read_csv('train.csv', encoding='cp1252',low_memory=False)"
   ]
  },
  {
   "cell_type": "code",
   "execution_count": 3,
   "metadata": {},
   "outputs": [],
   "source": [
    "train=train[train['compliance'].notnull()]"
   ]
  },
  {
   "cell_type": "code",
   "execution_count": 4,
   "metadata": {},
   "outputs": [],
   "source": [
    "list_to_remove_all = ['fine_amount', 'violator_name', 'zip_code', 'country', 'city',\n",
    "                                      'inspector_name', 'violation_street_number', 'violation_street_name',\n",
    "                                      'violation_zip_code', 'violation_description',\n",
    "                                      'mailing_address_str_number', 'mailing_address_str_name',\n",
    "                                      'non_us_str_code',\n",
    "                                     'grafitti_status', 'violation_code','ticket_issued_date','hearing_date']\n",
    "train.drop(list_to_remove_all,1,inplace=True)\n",
    "test.drop(list_to_remove_all,1,inplace=True)"
   ]
  },
  {
   "cell_type": "code",
   "execution_count": 5,
   "metadata": {},
   "outputs": [],
   "source": [
    "list_to_remove_train = [\n",
    "                    'balance_due',\n",
    "                    'collection_status',\n",
    "                    'compliance_detail',\n",
    "                    'payment_amount',\n",
    "                    'payment_date',\n",
    "                    'payment_status']"
   ]
  },
  {
   "cell_type": "code",
   "execution_count": 6,
   "metadata": {},
   "outputs": [],
   "source": [
    "train.drop(list_to_remove_train,1,inplace=True)"
   ]
  },
  {
   "cell_type": "code",
   "execution_count": 7,
   "metadata": {},
   "outputs": [],
   "source": [
    "to_split=['disposition','state','agency_name']\n",
    "train=pd.get_dummies(train,columns=to_split)\n",
    "test=pd.get_dummies(test,columns=to_split)"
   ]
  },
  {
   "cell_type": "code",
   "execution_count": 8,
   "metadata": {},
   "outputs": [],
   "source": [
    "a,b=set(train.columns),set(test.columns)\n",
    "for feature in train.columns:\n",
    "    if(feature not in b):\n",
    "        a.remove(feature)\n",
    "features_taken=list(a)"
   ]
  },
  {
   "cell_type": "code",
   "execution_count": 9,
   "metadata": {},
   "outputs": [],
   "source": [
    "X_test=test[features_taken]\n",
    "X_train=train[features_taken]\n",
    "y_train=train['compliance'].astype(int,copy=False)"
   ]
  },
  {
   "cell_type": "code",
   "execution_count": 10,
   "metadata": {},
   "outputs": [],
   "source": [
    "#clf= SVC(kernel ='linear', C=1).fit(X_train,y_train)\n",
    "clf=GradientBoostingClassifier().fit(X_train,y_train)"
   ]
  },
  {
   "cell_type": "code",
   "execution_count": 14,
   "metadata": {},
   "outputs": [],
   "source": [
    "compliance=clf.predict_proba(X_test)[:,1]"
   ]
  },
  {
   "cell_type": "code",
   "execution_count": 16,
   "metadata": {},
   "outputs": [],
   "source": [
    "compliance=pd.Series(compliance,index=test.ticket_id)"
   ]
  },
  {
   "cell_type": "code",
   "execution_count": 17,
   "metadata": {},
   "outputs": [
    {
     "data": {
      "text/plain": [
       "ticket_id\n",
       "284932    0.098262\n",
       "285362    0.029326\n",
       "285361    0.096114\n",
       "285338    0.098262\n",
       "285346    0.096114\n",
       "            ...   \n",
       "376496    0.195734\n",
       "376497    0.195734\n",
       "376499    0.502495\n",
       "376500    0.502495\n",
       "369851    0.979849\n",
       "Length: 61001, dtype: float64"
      ]
     },
     "execution_count": 17,
     "metadata": {},
     "output_type": "execute_result"
    }
   ],
   "source": [
    "compliance"
   ]
  },
  {
   "cell_type": "code",
   "execution_count": null,
   "metadata": {},
   "outputs": [],
   "source": []
  }
 ],
 "metadata": {
  "kernelspec": {
   "display_name": "Python 3",
   "language": "python",
   "name": "python3"
  },
  "language_info": {
   "codemirror_mode": {
    "name": "ipython",
    "version": 3
   },
   "file_extension": ".py",
   "mimetype": "text/x-python",
   "name": "python",
   "nbconvert_exporter": "python",
   "pygments_lexer": "ipython3",
   "version": "3.7.6"
  }
 },
 "nbformat": 4,
 "nbformat_minor": 4
}
